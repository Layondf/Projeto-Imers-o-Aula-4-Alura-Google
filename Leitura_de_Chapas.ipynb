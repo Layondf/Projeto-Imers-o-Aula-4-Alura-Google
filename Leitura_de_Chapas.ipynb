{
  "nbformat": 4,
  "nbformat_minor": 0,
  "metadata": {
    "colab": {
      "provenance": [],
      "toc_visible": true,
      "mount_file_id": "1P1TKGKgE2XRNs0V_NqzjqgHP_jnyfdij",
      "authorship_tag": "ABX9TyMHs0uQYyvfxfzUDTFnBIzJ",
      "include_colab_link": true
    },
    "kernelspec": {
      "name": "python3",
      "display_name": "Python 3"
    },
    "language_info": {
      "name": "python"
    }
  },
  "cells": [
    {
      "cell_type": "markdown",
      "metadata": {
        "id": "view-in-github",
        "colab_type": "text"
      },
      "source": [
        "<a href=\"https://colab.research.google.com/github/Layondf/Projeto-Imers-o-Aula-4-Alura-Google/blob/main/Leitura_de_Chapas.ipynb\" target=\"_parent\"><img src=\"https://colab.research.google.com/assets/colab-badge.svg\" alt=\"Open In Colab\"/></a>"
      ]
    },
    {
      "cell_type": "markdown",
      "source": [
        "## **Leitura da Cena**"
      ],
      "metadata": {
        "id": "e4wTLiP4C1PO"
      }
    },
    {
      "cell_type": "code",
      "execution_count": 94,
      "metadata": {
        "id": "KPJ-UQxssLzT",
        "colab": {
          "base_uri": "https://localhost:8080/",
          "height": 208
        },
        "outputId": "cb090347-519b-43dd-a6c6-9d341782885b"
      },
      "outputs": [
        {
          "output_type": "stream",
          "name": "stdout",
          "text": [
            "A1 3023710834\n",
            "A2 3023710811\n",
            "A3 3023710810\n",
            "B1 3023710814\n",
            "B2 3023710828\n",
            "B3 3023710824\n",
            "C1 3023710835\n",
            "C2 3023710836\n",
            "C3 3023710817 \n",
            "\n",
            "Texto gerado salvo em: /content/drive/MyDrive/Colab Notebooks/Logs Movimentação/syslog.txt\n"
          ]
        }
      ],
      "source": [
        "import os\n",
        "import hashlib\n",
        "import datetime\n",
        "import pytz\n",
        "import google.generativeai as genai\n",
        "from google.colab import userdata\n",
        "userdata.get('SECRET_KEY')\n",
        "api_key = userdata.get('SECRET_KEY')\n",
        "genai.configure(api_key=api_key)\n",
        "\n",
        "def salvar_texto_gerado(texto, nome_arquivo):\n",
        "    with open(nome_arquivo, 'w') as arquivo:\n",
        "        arquivo.write(texto)\n",
        "\n",
        "def obter_ultimo_arquivo(path):\n",
        "    arquivos = [os.path.join(path, f) for f in os.listdir(path) if f.endswith('.txt')]\n",
        "    if arquivos:\n",
        "        return max(arquivos, key=os.path.getmtime)\n",
        "    return None\n",
        "\n",
        "configuracao_geracao = {\n",
        "  \"temperature\": 1,\n",
        "  \"top_p\": 0.95,\n",
        "  \"top_k\": 0,\n",
        "  \"max_output_tokens\": 8192,\n",
        "}\n",
        "\n",
        "configuracao_seguranca = [\n",
        "  {\n",
        "    \"category\": \"HARM_CATEGORY_HARASSMENT\",\n",
        "    \"threshold\": \"BLOCK_MEDIUM_AND_ABOVE\"\n",
        "  },\n",
        "  {\n",
        "    \"category\": \"HARM_CATEGORY_HATE_SPEECH\",\n",
        "    \"threshold\": \"BLOCK_MEDIUM_AND_ABOVE\"\n",
        "  },\n",
        "  {\n",
        "    \"category\": \"HARM_CATEGORY_SEXUALLY_EXPLICIT\",\n",
        "    \"threshold\": \"BLOCK_MEDIUM_AND_ABOVE\"\n",
        "  },\n",
        "  {\n",
        "    \"category\": \"HARM_CATEGORY_DANGEROUS_CONTENT\",\n",
        "    \"threshold\": \"BLOCK_MEDIUM_AND_ABOVE\"\n",
        "  },\n",
        "]\n",
        "\n",
        "modelo = genai.GenerativeModel(model_name=\"gemini-1.5-pro-latest\",\n",
        "                              generation_config=configuracao_geracao,\n",
        "                              safety_settings=configuracao_seguranca)\n",
        "\n",
        "partes_prompt = [\n",
        "  \"Reconheça as posições em que A,B ou C representa Linha e 1,2 e 3 Representa Coluna e leia os números. Nunca escrever description\",\n",
        "  \"input: \",\n",
        "  genai.upload_file(\"/content/drive/MyDrive/Colab Notebooks/Modelos de Aprendizado/Cena1.jpeg\"),\n",
        "  \"output: description A1 3023710817\\nA2 3023710816\\nA3 3023710834\\nB1 3023710836\\nB2 3023710813\\nB3 3023710814\\nC1 3023710824\\nC2 3023710810\\nC3 3023710828\",\n",
        "  \"input: \",\n",
        "  genai.upload_file(\"/content/drive/MyDrive/Colab Notebooks/Modelos de Aprendizado/Cena2.jpeg\"),\n",
        "  \"output: description A1 3023710817\\nA2 3023710816\\nA3 3023710834\\nB1 3023710818\\nB2 3023710813\\nB3 3023710814\\nC1 3023710815\\nC2 3023710810\\nC3 3023710828\",\n",
        "  \"input: \",\n",
        "  genai.upload_file(\"/content/drive/MyDrive/Colab Notebooks/Modelos de Aprendizado/Cena4.jpeg\"),\n",
        "  \"output: description A1 3023710834\\nA2 3023710816\\nA3 3023710810\\nB1 3023710814\\nB2 0\\nB3 3023710824\\nC1 3023710815\\nC2 3023710836\\nC3 3023710817\",\n",
        "  \"input: \",\n",
        "  genai.upload_file(\"/content/drive/MyDrive/Colab Notebooks/Teste1.jpeg\"),\n",
        "  \"output: description \",\n",
        "]\n",
        "\n",
        "#\n",
        "resposta = modelo.generate_content(partes_prompt)\n",
        "print(resposta.text)\n",
        "\n",
        "# Pasta onde os resultados serão salvos\n",
        "pasta_resultados = '/content/drive/MyDrive/Colab Notebooks/Logs Movimentação/'\n",
        "nome_arquivo_salvo = 'syslog.txt'\n",
        "caminho_arquivo_salvo = os.path.join(pasta_resultados, nome_arquivo_salvo)\n",
        "\n",
        "# Salvar o texto gerado no arquivo de log\n",
        "salvar_texto_gerado_com_datahora(resposta.text, caminho_arquivo_salvo)\n",
        "print(f\"Texto gerado salvo em: {caminho_arquivo_salvo}\")\n"
      ]
    },
    {
      "cell_type": "markdown",
      "source": [
        "## **Modo Generativo**"
      ],
      "metadata": {
        "id": "4VvSPbsOCjTv"
      }
    },
    {
      "cell_type": "code",
      "source": [
        "from pathlib import Path\n",
        "import hashlib\n",
        "import google.generativeai as genai\n",
        "\n",
        "userdata.get('SECRET_KEY')\n",
        "api_key = userdata.get('SECRET_KEY')\n",
        "genai.configure(api_key=api_key)\n",
        "\n",
        "# Set up the model\n",
        "generation_config = {\n",
        "  \"temperature\": 1,\n",
        "  \"top_p\": 0.95,\n",
        "  \"top_k\": 0,\n",
        "  \"max_output_tokens\": 8192,\n",
        "}\n",
        "\n",
        "safety_settings = [\n",
        "  {\n",
        "    \"category\": \"HARM_CATEGORY_HARASSMENT\",\n",
        "    \"threshold\": \"BLOCK_MEDIUM_AND_ABOVE\"\n",
        "  },\n",
        "  {\n",
        "    \"category\": \"HARM_CATEGORY_HATE_SPEECH\",\n",
        "    \"threshold\": \"BLOCK_MEDIUM_AND_ABOVE\"\n",
        "  },\n",
        "  {\n",
        "    \"category\": \"HARM_CATEGORY_SEXUALLY_EXPLICIT\",\n",
        "    \"threshold\": \"BLOCK_MEDIUM_AND_ABOVE\"\n",
        "  },\n",
        "  {\n",
        "    \"category\": \"HARM_CATEGORY_DANGEROUS_CONTENT\",\n",
        "    \"threshold\": \"BLOCK_MEDIUM_AND_ABOVE\"\n",
        "  },\n",
        "]\n",
        "\n",
        "system_instruction = \"Este texto é um registro de movimentação de chapas. As letras A, B e C representam as linhas, enquanto os números 1, 2 e 3 representam as colunas. Para analisar o texto e determinar se foram adicionadas ou retiradas chapas, siga estas orientações:\\n\\nSe houver uma mudança no número na célula, sem que ele vire zero, significa que uma chapa foi adicionada. Se o número mudar sem se tornar zero, isso indica que foi adicionada uma chapa acima, resultando em duas ou mais chapas na célula.\\n\\nSe uma célula não contiver nenhum número, isso significa que não há mais chapas naquela célula.\\n\\nSe o número mudar sem chegar a zero, significa que foram adicionadas chapas. Quando todas as chapas forem removidas, o número voltará a zero. Não responder nada que não seja baseado no arquivo TXT\"\n",
        "\n",
        "model = genai.GenerativeModel(model_name=\"gemini-1.5-pro-latest\",\n",
        "                              generation_config=generation_config,\n",
        "                              system_instruction=system_instruction,\n",
        "                              safety_settings=safety_settings)\n",
        "\n",
        "def extract_text_file(pathname: str) -> list[str]:\n",
        "  parts = [f\"--- START OF FILE ${pathname} ---\"]\n",
        "  with open(pathname, 'r') as file:\n",
        "    parts.extend(file.readlines())\n",
        "  return parts\n",
        "\n",
        "# Carregar o arquivo syslog.txt\n",
        "file_path = \"/content/drive/MyDrive/Colab Notebooks/Logs Movimentação/syslog.txt\"\n",
        "file_content = extract_text_file(file_path)\n",
        "\n",
        "convo = model.start_chat(history=[\n",
        "  {\n",
        "    \"role\": \"user\",\n",
        "    \"parts\": file_content\n",
        "  }\n",
        "])\n",
        "\n",
        "# Looping para receber perguntas do usuário\n",
        "while True:\n",
        "  # Solicitar a pergunta ao usuário\n",
        "  user_question = input(\"Digite sua pergunta sobre o arquivo syslog.txt (ou digite 'fim' para sair): \")\n",
        "\n",
        "  # Encerrar o looping se o usuário digitar 'fim'\n",
        "  if user_question.lower() == 'fim':\n",
        "    break\n",
        "\n",
        "  # Enviar a pergunta ao modelo\n",
        "  convo.send_message(user_question)\n",
        "\n",
        "  # Imprimir a resposta do modelo\n",
        "  print(convo.last.text)"
      ],
      "metadata": {
        "id": "II-uOEP8iUzs"
      },
      "execution_count": null,
      "outputs": []
    },
    {
      "cell_type": "markdown",
      "source": [
        "## **Modo Embedding em Evolução**"
      ],
      "metadata": {
        "id": "ye4uAwzfCdO2"
      }
    },
    {
      "cell_type": "code",
      "source": [
        "pip install -U -q google.generativeai"
      ],
      "metadata": {
        "id": "Dp10MYErIbIG"
      },
      "execution_count": 100,
      "outputs": []
    },
    {
      "cell_type": "code",
      "source": [
        "import textwrap\n",
        "import numpy as np\n",
        "import pandas as pd\n",
        "\n",
        "import google.generativeai as genai\n",
        "import google.ai.generativelanguage as glm\n",
        "\n",
        "# Used to securely store your API key\n",
        "from google.colab import userdata\n",
        "\n",
        "from IPython.display import Markdown"
      ],
      "metadata": {
        "id": "ZIgbJprmNZTi"
      },
      "execution_count": 101,
      "outputs": []
    },
    {
      "cell_type": "code",
      "source": [
        "userdata.get('SECRET_KEY')\n",
        "api_key = userdata.get('SECRET_KEY')\n",
        "genai.configure(api_key=api_key)"
      ],
      "metadata": {
        "id": "Tfx0UI0BNiV3"
      },
      "execution_count": 102,
      "outputs": []
    },
    {
      "cell_type": "code",
      "source": [
        "for m in genai.list_models():\n",
        "  if 'embedContent' in m.supported_generation_methods:\n",
        "    print(m.name)"
      ],
      "metadata": {
        "colab": {
          "base_uri": "https://localhost:8080/",
          "height": 52
        },
        "id": "EaCDXurXNpNS",
        "outputId": "80c9f34e-c9f1-4784-ec67-33294695db38"
      },
      "execution_count": 103,
      "outputs": [
        {
          "output_type": "stream",
          "name": "stdout",
          "text": [
            "models/embedding-001\n",
            "models/text-embedding-004\n"
          ]
        }
      ]
    },
    {
      "cell_type": "code",
      "source": [
        "title = \"The next generation of AI for developers and Google Workspace\"\n",
        "sample_text = (\"/content/drive/MyDrive/Colab Notebooks/Logs Movimentação/syslog.txt\")\n",
        "\n",
        "model = 'models/embedding-001'\n",
        "embedding = genai.embed_content(model=model,\n",
        "                                content=sample_text,\n",
        "                                task_type=\"retrieval_document\",\n",
        "                                title=title)\n",
        "\n",
        "print(embedding)"
      ],
      "metadata": {
        "colab": {
          "base_uri": "https://localhost:8080/",
          "height": 54
        },
        "id": "PVdnRruyN6N4",
        "outputId": "f6ef8e4b-e7e1-42f3-f384-04765c039d65"
      },
      "execution_count": 105,
      "outputs": [
        {
          "output_type": "stream",
          "name": "stdout",
          "text": [
            "{'embedding': [0.06490323, 0.0020456193, -0.045785513, -0.04981185, 0.08248697, 0.028622484, -0.0047157644, 0.0033530628, 0.012299381, 0.064134434, -0.0027007638, 0.0075182673, -0.04782076, -0.0067438036, 0.029550051, -0.05606037, 0.0018542964, 0.0085241, -0.047573846, 0.004356591, 0.033939917, 0.004386333, -0.018151702, -0.02710876, -0.0037827964, -0.021774173, -0.016282007, -0.07001061, -0.0048251203, 0.022249281, -0.04848326, 0.038759332, -0.04927008, 0.019387834, -0.04836948, -0.0069651655, 0.0039500524, 0.02153253, 0.003767384, 0.01574518, -0.03786213, -0.06412854, 0.015698897, 0.019142913, 0.0058201505, 0.013146148, 0.030006178, 0.012369762, -0.0071903085, -0.086549595, 0.019238183, 0.042855877, 0.036476567, -0.023684204, -0.028512731, -0.00026227313, 0.053711772, -0.010078259, -0.0068280315, 0.0011383155, 0.007908845, 0.06140848, -0.063358694, 0.075211495, -0.03747509, -0.042146597, -0.0438655, -0.016959969, 0.023123328, 0.011806416, 0.024806917, -0.017245209, 0.03687641, -0.040264923, -0.037604902, -0.0999916, -0.048555043, 0.06559996, 0.029318223, 0.02443126, 0.012535785, -0.053922422, -0.0420034, -0.047816716, -0.04740624, 0.02325529, -0.008525448, -0.037136856, 0.006892377, 0.03240572, -0.056731224, -0.07265026, 0.055815287, -0.06106525, -0.020066712, 0.077664174, -0.05765221, -0.020432143, -0.0007409219, -0.061349515, -0.0251753, -0.0063684285, -0.03669327, -0.0022479582, 0.049038745, 0.042021513, -0.047145594, 0.065580554, -0.03862592, 0.08134643, -0.03453082, -0.016057543, 0.008165244, -0.051263858, 0.024380304, -0.070842445, 0.0071386276, 0.035329383, 0.0045773364, 0.0242065, 0.03810888, 0.021914063, 0.01520158, 0.017811177, -0.044562276, -0.0019068469, 0.0014764285, 0.08839086, 0.03190548, 0.04026405, 0.009629506, -0.03687833, -0.0031886874, 0.070991576, 0.020812454, 0.044983413, 0.044658702, -0.033711392, 0.01166194, 0.100726575, -0.024598688, 0.011204756, -0.018433418, 0.013019848, -0.004319154, 0.03983845, -0.063795656, 0.068030134, -0.00935711, -0.0052617467, -0.022923844, 0.048675746, -0.071241245, 0.017367367, 0.06524771, 0.0069641047, -0.03066043, 0.06872475, 0.0010525208, 0.014892426, 0.05027843, 0.0089974385, 0.037567236, 0.020235445, -0.018321976, -0.024072347, 0.008102257, -0.003149142, -0.0073152427, 0.03023529, 0.0058927713, 0.014317067, -0.036621, -0.023038166, -0.0022887099, -0.052151993, 0.01678681, -0.023295768, -0.0045608426, 0.0006287621, -0.03404071, -0.009296664, 0.060314648, 0.03577477, 0.008158859, 0.009846682, 0.057981085, -0.020913884, -0.037077617, 0.02166109, -0.030332074, -0.034900807, -0.034006696, -0.037255663, 0.012419369, 0.0121374335, 0.016411109, -0.033473957, -0.0072494457, -0.02412759, 0.034258697, 0.05694497, 0.007499433, 0.0015351914, 0.047443826, 0.008123602, 0.089096665, -0.012578036, -0.02025858, 0.07379931, -0.057888202, 0.012496732, 0.0009806436, -0.0051906495, 0.0486016, 0.0033885236, -0.0022686194, 0.018814968, -0.0049173436, -0.03646504, -0.02413459, -0.028963452, 0.0062530665, -0.045320116, 0.00010364027, 0.091483995, -0.019408787, 0.05036421, 0.022175247, -0.022172669, -0.023091013, 0.037100684, 0.03021615, 0.024746045, 0.06432772, -0.018290507, 0.030031165, 0.0062878486, 0.0534901, -0.007782549, -0.009266688, 0.036415856, 0.017699612, 0.027745359, -0.07655319, 0.007501613, -0.0045855707, 0.047017097, -0.023879109, 0.019713862, -0.024277106, -0.022062462, 0.01781927, 0.028774725, -0.04200247, 0.034476846, -0.07352797, -0.03303769, 0.012933042, -0.026887085, 0.02298243, -0.054875795, 0.018003069, -0.008097586, 0.060030714, -0.026470538, 0.031487387, -0.004838701, -0.03366027, 0.001343291, -0.036709357, -0.057357322, 0.068385616, 0.026591778, -0.013584099, -0.046601273, -0.022236044, 0.036667585, 0.03363577, -0.05401493, 0.0022472336, 0.03298864, -0.00033571813, -0.057494517, -0.034691855, 0.008919438, -0.004576679, -0.021135032, 0.018590096, -0.033185884, -0.041358445, 0.0063903877, -0.007652432, -0.013992422, -0.04518166, -0.030033851, -0.00271451, 0.0273875, 0.04534753, -0.017675018, -0.016120745, -0.0379425, 0.02232954, -0.04872097, 0.01911374, -0.02407944, -0.008155425, -0.040169433, 0.060337692, 0.054481912, 0.0034932406, -0.033294015, -0.020087732, 0.0071336213, 0.067011096, 0.025665151, -0.022642314, 0.02808092, 0.0029996077, 0.023833303, 0.015167509, 0.041758034, 0.010207142, -0.0141244, -0.02014406, 0.07308139, -0.050102472, 0.007729832, -0.02415877, 0.033225164, -0.017336711, 0.02311306, -0.0010208759, 0.058607463, -0.0511301, 0.008440084, -0.05845917, -0.00071853015, -0.010519676, -0.0021808483, -0.036526844, 0.047437105, -0.011230001, -0.062881604, 0.031117972, -0.0384722, -0.05689439, 0.037944905, 0.061343543, -0.01126035, 0.039295502, 0.07737631, -0.02552814, -0.025297444, -0.019977309, -0.04325369, 0.010952898, -0.013208208, 0.054279875, -0.059928786, -0.016753646, 0.070124924, 0.006571264, -0.03915856, 0.02259645, 0.028525842, 0.044679698, 0.0095019005, -0.012669937, 0.025840458, -0.011578258, -0.018522559, 0.0014830503, 0.0199706, -0.027325327, 0.009154107, -0.059264027, -0.031167435, -0.011034314, 0.017436989, -0.04136319, -0.038101096, 0.025113665, 0.03517382, 0.017869916, 0.024375768, 0.05497146, 0.062309295, -0.0042278497, 0.04127435, -0.006697126, 0.025337636, 0.07865885, 0.019215195, -0.008556321, -0.023905998, -0.0244496, -0.046855573, 0.015710596, -0.012749108, 0.009493703, -0.032734353, -0.037903484, -0.011252682, -0.017837854, -0.007947038, -0.03536751, -0.03282528, -0.08607477, 0.017827302, -0.013199132, 0.008713046, 0.02407792, -0.04198755, -0.06860279, -0.031055916, 0.06737549, 0.03935704, -0.03549173, -0.0010790062, 0.024749309, 0.0032011995, 0.032220878, -0.012199717, -0.07154814, 0.010404948, -0.013332571, -0.023736028, 0.017939009, 0.030881261, 0.04780273, 0.040089257, 0.022433473, 0.01612845, -0.017946074, -0.025662005, -0.0026818987, 0.0019971125, -0.040473904, -0.020907234, 0.037247494, -0.011662492, -0.017607016, -0.015844602, 0.009837514, -0.029272927, -0.026901908, -0.036677103, 0.05190539, -0.057347532, -0.004232843, -0.05771274, -0.059509262, -0.03642126, -0.008314714, -0.019708253, -0.010547098, 0.055831864, -0.001925254, 0.01119226, -0.0034084166, -0.02967192, -0.021272326, -0.025555395, 0.061781395, -0.05025114, -0.0027534598, -0.012850854, 0.009657347, 0.042727914, -0.02093265, -0.048588403, 0.0011012969, 0.0066455067, -0.01714024, -0.0010439121, -0.110594034, 0.004572844, -0.028672488, -0.0016046439, -0.036565498, 0.028793255, 0.050481737, -0.017982392, 0.0058097225, -0.06823468, 0.037397776, 0.012888099, 0.034593616, 0.03480938, 0.012162378, 0.029177004, -0.03350396, -0.020706095, 0.011593294, 0.008255434, -0.07558109, 0.030453233, 0.015176911, 0.0455681, -0.04432502, 0.019416686, -0.016959414, -0.043947656, 0.056314893, -0.046932768, 0.034371153, -0.012997905, 0.015486494, -0.00057061936, -0.008252435, 0.0036530467, 0.00402469, -0.018691193, 0.027465377, -0.020783091, -0.021811415, 0.021155816, -0.006427928, -0.03685719, 0.055778533, -0.0039600725, -0.13126557, 0.004873691, 0.0021133276, -0.069026165, 0.031252794, -0.00084633555, 0.0088528525, -0.00028748566, -0.024795176, 0.06933089, -0.020250665, -0.031579196, -0.020987995, -0.045377042, 0.047237366, -0.0033583057, 0.01603354, -0.011220617, 0.0063620163, 0.012315644, -0.007934324, 0.01184812, -0.017807757, 0.02087058, 7.7857134e-05, -0.053280573, 0.044130545, 0.022422418, -0.010547007, 0.02623367, -0.017830124, 0.0051340265, 0.02448001, -0.033888664, -0.015755195, -0.0128743565, -0.0012648293, -0.01420352, 0.007162903, 0.007776723, -0.02356287, -0.04543937, 0.07734082, -0.050201744, -0.032340046, -0.021488862, 0.020765444, -0.019266829, -0.05757709, -0.021767234, 0.028560916, -0.0036473186, 0.03768373, -0.029538456, -0.075583525, -0.0055404734, -0.028224487, 0.019614272, 0.062418826, -0.0007531319, 0.0048992517, 0.038643297, -0.02211226, -0.035432883, 0.010828365, 0.040514935, 0.036588844, 0.0005029889, -0.04359488, 0.06844871, -0.02524562, 0.09011529, 0.007708334, -0.039124236, 0.02498097, -0.002097425, 0.0071342974, 0.06004132, 0.014087326, -0.039591324, 0.03751724, -0.03007506, 0.03297237, 0.07318814, 0.03670805, 0.0070159333, 0.0025580663, 0.04029803, -0.032710943, -0.030295188, -0.0016125524, -0.03302569, -0.050693724, -0.02898406, 0.02508351, 0.044988006, -0.0019121803, -0.0108425785, -0.024186812, 0.03656267, 0.031063715, 0.022146836, 0.030098451, 0.007861987, -0.053379584, -0.009759915, 0.04999913, 0.0035225071, 0.054845933, 0.07605587, 0.009502423, 0.024747377, -0.02317492, -0.0006320464, 0.029480115, 0.02608311, 0.018750763, -0.027637552, -0.047125295, -0.007520909, -0.026826393, -0.034648348, -0.033379458, 0.017852366, -0.0023521297, -0.068123356, -0.03272771, -0.017391771, -0.01674446, 0.030207375, 0.06617125, 0.03969414, 0.0045262245, -0.019761661, -0.060395, -0.05952175, 0.059454314, 0.009652429, -0.034576535, 0.019934306, 0.0015585853, 0.004972242, -0.024326116, -0.06807904, -0.056171343, -0.09930574, -0.046297062, 0.028164532, -0.070434034, 0.06784275, 0.05021931, -0.020353049, -0.009157429, 0.069718935, 0.017682984, 0.029592685, 0.061668012, -0.008480835, 0.0087184, -0.033549484, -0.002306175, 0.018881766, 0.0059409565, -0.006003393, 0.053804886, -0.030760514, -0.024826787, -0.036827505, 0.013572685, -0.025289224, 0.022850802, 0.040653158, 0.026312537, -0.007983766, -0.012839778, 0.0056822635, 0.035265274, 0.026178842, -0.033614576, -0.024084862, -0.009067323, 0.024601365, 0.031195434, -0.010692498, -0.05356037, -0.009307895, -0.044270366, 0.04637934, 0.03215547, -0.03675234, -0.08291909, -0.009384701, -0.0052080015, -0.025155654, -0.028988956, 0.04264405, -0.022363544, 0.059023924, -0.021715874, 0.0017079124, 0.009391402, 0.010982937, -0.03194991, 0.05015677, -0.03324227, 0.0029763468, 0.0040098587, 0.010441153, 0.053545933, -0.034928866, -0.0051352396, -0.013283694, 0.003027905, 0.020860128, -0.009805288, 0.06612606, -0.038416497, -0.102313325, -0.040383358, -0.053175356, 0.03246325, 0.0548087, 0.032516524, -0.05539556, -0.006371709, -0.045771074, -0.024537822, -0.052719727, -0.028436428, -0.03209456, 0.021524172, 0.043605946, 0.03641606, -0.020077461, -0.016854066, -0.036839094, 0.016733157, 0.002505129, -0.015787324, -0.015833799, -0.017211933, -0.025399607, -0.004882754, 0.0710127, -0.01719555, 0.02167292]}\n"
          ]
        }
      ]
    },
    {
      "cell_type": "code",
      "source": [
        "DOCUMENT1 = {\n",
        "    \"title\": \"Syslog\",\n",
        "    \"content\": \"/content/drive/MyDrive/Colab Notebooks/Logs Movimentação/syslog.txt\"}\n",
        "\n",
        "\n",
        "documents = [DOCUMENT1]"
      ],
      "metadata": {
        "id": "7gi2NCH6OM1O"
      },
      "execution_count": 106,
      "outputs": []
    },
    {
      "cell_type": "code",
      "source": [
        "df = pd.DataFrame(documents)\n",
        "df.columns = ['Title', 'Text']\n",
        "df"
      ],
      "metadata": {
        "colab": {
          "base_uri": "https://localhost:8080/",
          "height": 81
        },
        "id": "cgFl6hEhOnK9",
        "outputId": "ebe7cb41-e7ca-4790-d8dd-91cb96d9f6c8"
      },
      "execution_count": 107,
      "outputs": [
        {
          "output_type": "execute_result",
          "data": {
            "text/plain": [
              "    Title                                               Text\n",
              "0  Syslog  /content/drive/MyDrive/Colab Notebooks/Logs Mo..."
            ],
            "text/html": [
              "\n",
              "  <div id=\"df-85d9f6cb-c04f-4f8b-bdca-0a336b88d0f5\" class=\"colab-df-container\">\n",
              "    <div>\n",
              "<style scoped>\n",
              "    .dataframe tbody tr th:only-of-type {\n",
              "        vertical-align: middle;\n",
              "    }\n",
              "\n",
              "    .dataframe tbody tr th {\n",
              "        vertical-align: top;\n",
              "    }\n",
              "\n",
              "    .dataframe thead th {\n",
              "        text-align: right;\n",
              "    }\n",
              "</style>\n",
              "<table border=\"1\" class=\"dataframe\">\n",
              "  <thead>\n",
              "    <tr style=\"text-align: right;\">\n",
              "      <th></th>\n",
              "      <th>Title</th>\n",
              "      <th>Text</th>\n",
              "    </tr>\n",
              "  </thead>\n",
              "  <tbody>\n",
              "    <tr>\n",
              "      <th>0</th>\n",
              "      <td>Syslog</td>\n",
              "      <td>/content/drive/MyDrive/Colab Notebooks/Logs Mo...</td>\n",
              "    </tr>\n",
              "  </tbody>\n",
              "</table>\n",
              "</div>\n",
              "    <div class=\"colab-df-buttons\">\n",
              "\n",
              "  <div class=\"colab-df-container\">\n",
              "    <button class=\"colab-df-convert\" onclick=\"convertToInteractive('df-85d9f6cb-c04f-4f8b-bdca-0a336b88d0f5')\"\n",
              "            title=\"Convert this dataframe to an interactive table.\"\n",
              "            style=\"display:none;\">\n",
              "\n",
              "  <svg xmlns=\"http://www.w3.org/2000/svg\" height=\"24px\" viewBox=\"0 -960 960 960\">\n",
              "    <path d=\"M120-120v-720h720v720H120Zm60-500h600v-160H180v160Zm220 220h160v-160H400v160Zm0 220h160v-160H400v160ZM180-400h160v-160H180v160Zm440 0h160v-160H620v160ZM180-180h160v-160H180v160Zm440 0h160v-160H620v160Z\"/>\n",
              "  </svg>\n",
              "    </button>\n",
              "\n",
              "  <style>\n",
              "    .colab-df-container {\n",
              "      display:flex;\n",
              "      gap: 12px;\n",
              "    }\n",
              "\n",
              "    .colab-df-convert {\n",
              "      background-color: #E8F0FE;\n",
              "      border: none;\n",
              "      border-radius: 50%;\n",
              "      cursor: pointer;\n",
              "      display: none;\n",
              "      fill: #1967D2;\n",
              "      height: 32px;\n",
              "      padding: 0 0 0 0;\n",
              "      width: 32px;\n",
              "    }\n",
              "\n",
              "    .colab-df-convert:hover {\n",
              "      background-color: #E2EBFA;\n",
              "      box-shadow: 0px 1px 2px rgba(60, 64, 67, 0.3), 0px 1px 3px 1px rgba(60, 64, 67, 0.15);\n",
              "      fill: #174EA6;\n",
              "    }\n",
              "\n",
              "    .colab-df-buttons div {\n",
              "      margin-bottom: 4px;\n",
              "    }\n",
              "\n",
              "    [theme=dark] .colab-df-convert {\n",
              "      background-color: #3B4455;\n",
              "      fill: #D2E3FC;\n",
              "    }\n",
              "\n",
              "    [theme=dark] .colab-df-convert:hover {\n",
              "      background-color: #434B5C;\n",
              "      box-shadow: 0px 1px 3px 1px rgba(0, 0, 0, 0.15);\n",
              "      filter: drop-shadow(0px 1px 2px rgba(0, 0, 0, 0.3));\n",
              "      fill: #FFFFFF;\n",
              "    }\n",
              "  </style>\n",
              "\n",
              "    <script>\n",
              "      const buttonEl =\n",
              "        document.querySelector('#df-85d9f6cb-c04f-4f8b-bdca-0a336b88d0f5 button.colab-df-convert');\n",
              "      buttonEl.style.display =\n",
              "        google.colab.kernel.accessAllowed ? 'block' : 'none';\n",
              "\n",
              "      async function convertToInteractive(key) {\n",
              "        const element = document.querySelector('#df-85d9f6cb-c04f-4f8b-bdca-0a336b88d0f5');\n",
              "        const dataTable =\n",
              "          await google.colab.kernel.invokeFunction('convertToInteractive',\n",
              "                                                    [key], {});\n",
              "        if (!dataTable) return;\n",
              "\n",
              "        const docLinkHtml = 'Like what you see? Visit the ' +\n",
              "          '<a target=\"_blank\" href=https://colab.research.google.com/notebooks/data_table.ipynb>data table notebook</a>'\n",
              "          + ' to learn more about interactive tables.';\n",
              "        element.innerHTML = '';\n",
              "        dataTable['output_type'] = 'display_data';\n",
              "        await google.colab.output.renderOutput(dataTable, element);\n",
              "        const docLink = document.createElement('div');\n",
              "        docLink.innerHTML = docLinkHtml;\n",
              "        element.appendChild(docLink);\n",
              "      }\n",
              "    </script>\n",
              "  </div>\n",
              "\n",
              "    </div>\n",
              "  </div>\n"
            ],
            "application/vnd.google.colaboratory.intrinsic+json": {
              "type": "dataframe",
              "variable_name": "df",
              "summary": "{\n  \"name\": \"df\",\n  \"rows\": 1,\n  \"fields\": [\n    {\n      \"column\": \"Title\",\n      \"properties\": {\n        \"dtype\": \"string\",\n        \"num_unique_values\": 1,\n        \"samples\": [\n          \"Syslog\"\n        ],\n        \"semantic_type\": \"\",\n        \"description\": \"\"\n      }\n    },\n    {\n      \"column\": \"Text\",\n      \"properties\": {\n        \"dtype\": \"string\",\n        \"num_unique_values\": 1,\n        \"samples\": [\n          \"/content/drive/MyDrive/Colab Notebooks/Logs Movimenta\\u00e7\\u00e3o/syslog.txt\"\n        ],\n        \"semantic_type\": \"\",\n        \"description\": \"\"\n      }\n    }\n  ]\n}"
            }
          },
          "metadata": {},
          "execution_count": 107
        }
      ]
    },
    {
      "cell_type": "code",
      "source": [
        "# Get the embeddings of each text and add to an embeddings column in the dataframe\n",
        "def embed_fn(title, text):\n",
        "  return genai.embed_content(model=model,\n",
        "                             content=text,\n",
        "                             task_type=\"retrieval_document\",\n",
        "                             title=title)[\"embedding\"]\n",
        "\n",
        "df['Embeddings'] = df.apply(lambda row: embed_fn(row['Title'], row['Text']), axis=1)\n",
        "df"
      ],
      "metadata": {
        "colab": {
          "base_uri": "https://localhost:8080/",
          "height": 81
        },
        "id": "56JpOMivOtqk",
        "outputId": "d42de20a-1d96-4c55-b126-8bf1cbbd5f45"
      },
      "execution_count": 108,
      "outputs": [
        {
          "output_type": "execute_result",
          "data": {
            "text/plain": [
              "    Title                                               Text  \\\n",
              "0  Syslog  /content/drive/MyDrive/Colab Notebooks/Logs Mo...   \n",
              "\n",
              "                                          Embeddings  \n",
              "0  [0.06969882, -0.0075141788, -0.061609257, -0.0...  "
            ],
            "text/html": [
              "\n",
              "  <div id=\"df-d86fe33e-5f47-4f71-b3ee-bbdf216a863a\" class=\"colab-df-container\">\n",
              "    <div>\n",
              "<style scoped>\n",
              "    .dataframe tbody tr th:only-of-type {\n",
              "        vertical-align: middle;\n",
              "    }\n",
              "\n",
              "    .dataframe tbody tr th {\n",
              "        vertical-align: top;\n",
              "    }\n",
              "\n",
              "    .dataframe thead th {\n",
              "        text-align: right;\n",
              "    }\n",
              "</style>\n",
              "<table border=\"1\" class=\"dataframe\">\n",
              "  <thead>\n",
              "    <tr style=\"text-align: right;\">\n",
              "      <th></th>\n",
              "      <th>Title</th>\n",
              "      <th>Text</th>\n",
              "      <th>Embeddings</th>\n",
              "    </tr>\n",
              "  </thead>\n",
              "  <tbody>\n",
              "    <tr>\n",
              "      <th>0</th>\n",
              "      <td>Syslog</td>\n",
              "      <td>/content/drive/MyDrive/Colab Notebooks/Logs Mo...</td>\n",
              "      <td>[0.06969882, -0.0075141788, -0.061609257, -0.0...</td>\n",
              "    </tr>\n",
              "  </tbody>\n",
              "</table>\n",
              "</div>\n",
              "    <div class=\"colab-df-buttons\">\n",
              "\n",
              "  <div class=\"colab-df-container\">\n",
              "    <button class=\"colab-df-convert\" onclick=\"convertToInteractive('df-d86fe33e-5f47-4f71-b3ee-bbdf216a863a')\"\n",
              "            title=\"Convert this dataframe to an interactive table.\"\n",
              "            style=\"display:none;\">\n",
              "\n",
              "  <svg xmlns=\"http://www.w3.org/2000/svg\" height=\"24px\" viewBox=\"0 -960 960 960\">\n",
              "    <path d=\"M120-120v-720h720v720H120Zm60-500h600v-160H180v160Zm220 220h160v-160H400v160Zm0 220h160v-160H400v160ZM180-400h160v-160H180v160Zm440 0h160v-160H620v160ZM180-180h160v-160H180v160Zm440 0h160v-160H620v160Z\"/>\n",
              "  </svg>\n",
              "    </button>\n",
              "\n",
              "  <style>\n",
              "    .colab-df-container {\n",
              "      display:flex;\n",
              "      gap: 12px;\n",
              "    }\n",
              "\n",
              "    .colab-df-convert {\n",
              "      background-color: #E8F0FE;\n",
              "      border: none;\n",
              "      border-radius: 50%;\n",
              "      cursor: pointer;\n",
              "      display: none;\n",
              "      fill: #1967D2;\n",
              "      height: 32px;\n",
              "      padding: 0 0 0 0;\n",
              "      width: 32px;\n",
              "    }\n",
              "\n",
              "    .colab-df-convert:hover {\n",
              "      background-color: #E2EBFA;\n",
              "      box-shadow: 0px 1px 2px rgba(60, 64, 67, 0.3), 0px 1px 3px 1px rgba(60, 64, 67, 0.15);\n",
              "      fill: #174EA6;\n",
              "    }\n",
              "\n",
              "    .colab-df-buttons div {\n",
              "      margin-bottom: 4px;\n",
              "    }\n",
              "\n",
              "    [theme=dark] .colab-df-convert {\n",
              "      background-color: #3B4455;\n",
              "      fill: #D2E3FC;\n",
              "    }\n",
              "\n",
              "    [theme=dark] .colab-df-convert:hover {\n",
              "      background-color: #434B5C;\n",
              "      box-shadow: 0px 1px 3px 1px rgba(0, 0, 0, 0.15);\n",
              "      filter: drop-shadow(0px 1px 2px rgba(0, 0, 0, 0.3));\n",
              "      fill: #FFFFFF;\n",
              "    }\n",
              "  </style>\n",
              "\n",
              "    <script>\n",
              "      const buttonEl =\n",
              "        document.querySelector('#df-d86fe33e-5f47-4f71-b3ee-bbdf216a863a button.colab-df-convert');\n",
              "      buttonEl.style.display =\n",
              "        google.colab.kernel.accessAllowed ? 'block' : 'none';\n",
              "\n",
              "      async function convertToInteractive(key) {\n",
              "        const element = document.querySelector('#df-d86fe33e-5f47-4f71-b3ee-bbdf216a863a');\n",
              "        const dataTable =\n",
              "          await google.colab.kernel.invokeFunction('convertToInteractive',\n",
              "                                                    [key], {});\n",
              "        if (!dataTable) return;\n",
              "\n",
              "        const docLinkHtml = 'Like what you see? Visit the ' +\n",
              "          '<a target=\"_blank\" href=https://colab.research.google.com/notebooks/data_table.ipynb>data table notebook</a>'\n",
              "          + ' to learn more about interactive tables.';\n",
              "        element.innerHTML = '';\n",
              "        dataTable['output_type'] = 'display_data';\n",
              "        await google.colab.output.renderOutput(dataTable, element);\n",
              "        const docLink = document.createElement('div');\n",
              "        docLink.innerHTML = docLinkHtml;\n",
              "        element.appendChild(docLink);\n",
              "      }\n",
              "    </script>\n",
              "  </div>\n",
              "\n",
              "    </div>\n",
              "  </div>\n"
            ],
            "application/vnd.google.colaboratory.intrinsic+json": {
              "type": "dataframe",
              "variable_name": "df",
              "summary": "{\n  \"name\": \"df\",\n  \"rows\": 1,\n  \"fields\": [\n    {\n      \"column\": \"Title\",\n      \"properties\": {\n        \"dtype\": \"string\",\n        \"num_unique_values\": 1,\n        \"samples\": [\n          \"Syslog\"\n        ],\n        \"semantic_type\": \"\",\n        \"description\": \"\"\n      }\n    },\n    {\n      \"column\": \"Text\",\n      \"properties\": {\n        \"dtype\": \"string\",\n        \"num_unique_values\": 1,\n        \"samples\": [\n          \"/content/drive/MyDrive/Colab Notebooks/Logs Movimenta\\u00e7\\u00e3o/syslog.txt\"\n        ],\n        \"semantic_type\": \"\",\n        \"description\": \"\"\n      }\n    },\n    {\n      \"column\": \"Embeddings\",\n      \"properties\": {\n        \"dtype\": \"object\",\n        \"semantic_type\": \"\",\n        \"description\": \"\"\n      }\n    }\n  ]\n}"
            }
          },
          "metadata": {},
          "execution_count": 108
        }
      ]
    },
    {
      "cell_type": "code",
      "source": [
        "query = \"Qual chapa saiu?\"\n",
        "model = 'models/embedding-001'\n",
        "\n",
        "request = genai.embed_content(model=model,\n",
        "                              content=query,\n",
        "                              task_type=\"retrieval_query\")"
      ],
      "metadata": {
        "id": "extfhvxtPC76"
      },
      "execution_count": 109,
      "outputs": []
    },
    {
      "cell_type": "code",
      "source": [
        "def find_best_passage(query, dataframe):\n",
        "  \"\"\"\n",
        "  Compute the distances between the query and each document in the dataframe\n",
        "  using the dot product.\n",
        "  \"\"\"\n",
        "  query_embedding = genai.embed_content(model=model,\n",
        "                                        content=query,\n",
        "                                        task_type=\"retrieval_query\")\n",
        "  dot_products = np.dot(np.stack(dataframe['Embeddings']), query_embedding[\"embedding\"])\n",
        "  idx = np.argmax(dot_products)\n",
        "  return dataframe.iloc[idx]['Text'] # Return text from index with max value"
      ],
      "metadata": {
        "id": "P7vvucvpPSmL"
      },
      "execution_count": 110,
      "outputs": []
    },
    {
      "cell_type": "code",
      "source": [
        "passage = find_best_passage(query, df)\n",
        "passage"
      ],
      "metadata": {
        "colab": {
          "base_uri": "https://localhost:8080/",
          "height": 36
        },
        "id": "4Q4gjHp-PY3O",
        "outputId": "7cf44462-9d57-44ed-a4ae-34f8e70717ca"
      },
      "execution_count": 111,
      "outputs": [
        {
          "output_type": "execute_result",
          "data": {
            "text/plain": [
              "'/content/drive/MyDrive/Colab Notebooks/Logs Movimentação/syslog.txt'"
            ],
            "application/vnd.google.colaboratory.intrinsic+json": {
              "type": "string"
            }
          },
          "metadata": {},
          "execution_count": 111
        }
      ]
    },
    {
      "cell_type": "code",
      "source": [
        "def make_prompt(query, relevant_passage):\n",
        "  escaped = relevant_passage.replace(\"'\", \"\").replace('\"', \"\").replace(\"\\n\", \" \")\n",
        "  prompt = textwrap.dedent(\"\"\"You are a helpful and informative bot that answers questions using text from the reference passage included below. \\\n",
        "  Be sure to respond in a complete sentence, being comprehensive, including all relevant background information. \\\n",
        "  However, you are talking to a non-technical audience, so be sure to break down complicated concepts and \\\n",
        "  strike a friendly and converstional tone. \\\n",
        "  If the passage is irrelevant to the answer, you may ignore it.\n",
        "  QUESTION: '{query}'\n",
        "  PASSAGE: '{relevant_passage}'\n",
        "\n",
        "    ANSWER:\n",
        "  \"\"\").format(query=query, relevant_passage=escaped)\n",
        "\n",
        "  return prompt"
      ],
      "metadata": {
        "id": "tLzwEs-gPfkB"
      },
      "execution_count": 112,
      "outputs": []
    },
    {
      "cell_type": "code",
      "source": [
        "prompt = make_prompt(query, passage)\n",
        "print(prompt)"
      ],
      "metadata": {
        "colab": {
          "base_uri": "https://localhost:8080/"
        },
        "id": "JXO06VPFPk6c",
        "outputId": "08276c4d-79ce-4e7b-f634-db92c4eb060f"
      },
      "execution_count": 113,
      "outputs": [
        {
          "output_type": "stream",
          "name": "stdout",
          "text": [
            "You are a helpful and informative bot that answers questions using text from the reference passage included below.   Be sure to respond in a complete sentence, being comprehensive, including all relevant background information.   However, you are talking to a non-technical audience, so be sure to break down complicated concepts and   strike a friendly and converstional tone.   If the passage is irrelevant to the answer, you may ignore it.\n",
            "  QUESTION: 'Qual chapa saiu?'\n",
            "  PASSAGE: '/content/drive/MyDrive/Colab Notebooks/Logs Movimentação/syslog.txt'\n",
            "\n",
            "    ANSWER:\n",
            "\n"
          ]
        }
      ]
    },
    {
      "cell_type": "code",
      "source": [
        "for m in genai.list_models():\n",
        "  if 'generateContent' in m.supported_generation_methods:\n",
        "    print(m.name)"
      ],
      "metadata": {
        "colab": {
          "base_uri": "https://localhost:8080/",
          "height": 139
        },
        "id": "xlivlcQ4Ps3p",
        "outputId": "aa3acb10-1828-4fac-93f9-f3a438536da8"
      },
      "execution_count": 114,
      "outputs": [
        {
          "output_type": "stream",
          "name": "stdout",
          "text": [
            "models/gemini-1.0-pro\n",
            "models/gemini-1.0-pro-001\n",
            "models/gemini-1.0-pro-latest\n",
            "models/gemini-1.0-pro-vision-latest\n",
            "models/gemini-1.5-pro-latest\n",
            "models/gemini-pro\n",
            "models/gemini-pro-vision\n"
          ]
        }
      ]
    },
    {
      "cell_type": "code",
      "source": [
        "model = genai.GenerativeModel('gemini-1.0-pro-latest')\n",
        "answer = model.generate_content(prompt)"
      ],
      "metadata": {
        "id": "dQ3yUjYAP07V"
      },
      "execution_count": 116,
      "outputs": []
    },
    {
      "cell_type": "code",
      "source": [
        "Markdown(answer.text)"
      ],
      "metadata": {
        "colab": {
          "base_uri": "https://localhost:8080/",
          "height": 46
        },
        "id": "l0CM7HHJQGch",
        "outputId": "7e1037d8-7f7e-43dd-a234-39e422a3a42d"
      },
      "execution_count": 117,
      "outputs": [
        {
          "output_type": "execute_result",
          "data": {
            "text/plain": [
              "<IPython.core.display.Markdown object>"
            ],
            "text/markdown": "I'm sorry, but there is no mention of 'Qual chapa saiu?' in the reference passage you provided."
          },
          "metadata": {},
          "execution_count": 117
        }
      ]
    }
  ]
}